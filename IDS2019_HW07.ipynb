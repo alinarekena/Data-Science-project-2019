# TODO
test1 = pd.read_csv('val.csv')
X_test1 = test1.loc[:, test1.columns != ('y')]
pr = rf.predict_proba(X_test1)
pr = pd.DataFrame(pr, columns=['1', '2']) 
rf.classes_