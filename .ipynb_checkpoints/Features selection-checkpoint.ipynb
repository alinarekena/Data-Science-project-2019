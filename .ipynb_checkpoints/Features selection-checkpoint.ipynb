{
 "cells": [
  {
   "cell_type": "code",
   "execution_count": 1,
   "metadata": {},
   "outputs": [],
   "source": [
    "import pandas as pd \n",
    "import numpy as np\n",
    "import random\n",
    "from sklearn.ensemble import RandomForestClassifier"
   ]
  },
  {
   "cell_type": "code",
   "execution_count": 2,
   "metadata": {},
   "outputs": [],
   "source": [
    "mergedDescs=pd.read_csv(\"merged_Descs_sorted.csv\")\n",
    "data=mergedDescs.copy()\n",
    "data = data.drop(['Name'], axis=1)"
   ]
  },
  {
   "cell_type": "code",
   "execution_count": 3,
   "metadata": {},
   "outputs": [],
   "source": [
    "varss = data.var(axis=0, skipna=None, level=None, ddof=1, numeric_only=None)"
   ]
  },
  {
   "cell_type": "code",
   "execution_count": 4,
   "metadata": {},
   "outputs": [],
   "source": [
    "columns = list(data)\n",
    "for column in columns:\n",
    "    if varss[column] < 1.0:\n",
    "        data = data.drop(column, axis=1)"
   ]
  },
  {
   "cell_type": "code",
   "execution_count": 5,
   "metadata": {},
   "outputs": [],
   "source": [
    "ca = data.corr(method ='pearson').abs()\n",
    "#Three next lines are copied from https://chrisalbon.com/machine_learning/feature_selection/drop_highly_correlated_features/\n",
    "upper = ca.where(np.triu(np.ones(ca.shape), k=1).astype(np.bool))\n",
    "to_drop = [column for column in upper.columns if any(upper[column] > 0.95)]\n",
    "data = data.drop(data[to_drop], axis=1)"
   ]
  },
  {
   "cell_type": "code",
   "execution_count": 6,
   "metadata": {},
   "outputs": [],
   "source": [
    "data[\"BCF\"] = data.apply(lambda row: 0 if row[\"logBCF\"] < 3.0 else 1, axis=1)\n",
    "data = data.drop(['logBCF'], axis=1)"
   ]
  },
  {
   "cell_type": "code",
   "execution_count": 7,
   "metadata": {},
   "outputs": [],
   "source": [
    "stats = []\n",
    "\n",
    "for i in range(99):\n",
    "    \n",
    "    data = data.sample(frac=1)\n",
    "        \n",
    "    count = 1\n",
    "    val = pd.DataFrame()\n",
    "    train = pd.DataFrame()\n",
    "    for index, row in data.iterrows():\n",
    "        x = random.randint(2,15)\n",
    "        if (count%x)==0:\n",
    "            val = val.append(row)\n",
    "        else:\n",
    "            train = train.append(row)\n",
    "    count += 1\n",
    "    \n",
    "    X_train = train.loc[:, train.columns != ('BCF')]\n",
    "    y_train = train[['BCF']].copy()\n",
    "    X_val = val.loc[:, train.columns != ('BCF')]\n",
    "    y_val = val[['BCF']].copy()\n",
    "    \n",
    "    y_train = np.ravel(y_train)\n",
    "    rf = RandomForestClassifier(n_estimators=100, max_depth=4, random_state=0).fit(X_train, y_train)\n",
    "    \n",
    "    #The next line is copied from https://blog.datadive.net/selecting-good-features-part-iii-random-forests/\n",
    "    importances = sorted(zip(map(lambda x: round(x, 6), rf.feature_importances_), columns), reverse=True)\n",
    "    \n",
    "    stat = []\n",
    "    \n",
    "    for f in importances[0:20]:\n",
    "        stat.append(f[1])\n",
    "    \n",
    "    stats.append(stat)"
   ]
  },
  {
   "cell_type": "code",
   "execution_count": 8,
   "metadata": {},
   "outputs": [
    {
     "data": {
      "text/plain": [
       "['nAcid',\n",
       " 'nCl',\n",
       " 'nI',\n",
       " 'ATSc5',\n",
       " 'nBondsM',\n",
       " 'SCH-6',\n",
       " 'SCH-7',\n",
       " 'SC-5',\n",
       " 'SC-6',\n",
       " 'nHdNH']"
      ]
     },
     "execution_count": 8,
     "metadata": {},
     "output_type": "execute_result"
    }
   ],
   "source": [
    "sel_f = []\n",
    "\n",
    "for column in columns:\n",
    "    c = 0\n",
    "    for i in stats:\n",
    "        c = c + i.count(column)\n",
    "    if c > 98:\n",
    "        sel_f.append(column)\n",
    "        \n",
    "sel_f"
   ]
  }
 ],
 "metadata": {
  "kernelspec": {
   "display_name": "Python 3",
   "language": "python",
   "name": "python3"
  },
  "language_info": {
   "codemirror_mode": {
    "name": "ipython",
    "version": 3
   },
   "file_extension": ".py",
   "mimetype": "text/x-python",
   "name": "python",
   "nbconvert_exporter": "python",
   "pygments_lexer": "ipython3",
   "version": "3.7.3"
  }
 },
 "nbformat": 4,
 "nbformat_minor": 2
}
